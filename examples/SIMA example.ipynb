{
 "cells": [
  {
   "cell_type": "markdown",
   "metadata": {},
   "source": [
    "# Using FISSA with SIMA\n",
    "\n",
    "[SIMA](http://www.losonczylab.org/sima/) is a toolbox for motion correction and cell detection.\n",
    "Here we illustrate how to create a workflow which uses SIMA to detect cells and FISSA to extract decontaminated signals from those cells.\n",
    "\n",
    "**Reference:**\n",
    "Kaifosh, P., Zaremba, J. D., Danielson, N. B., Losonczy, A., 2014. SIMA: Python software for analysis of dynamic fluorescence imaging data. Frontiers in neuroinformatics 8 (80). doi:&nbsp;[10.3389/fninf.2014.00080](https://doi.org/10.3389/fninf.2014.00080)"
   ]
  },
  {
   "cell_type": "markdown",
   "metadata": {},
   "source": [
    "## Imports"
   ]
  },
  {
   "cell_type": "code",
   "execution_count": null,
   "metadata": {},
   "outputs": [],
   "source": [
    "# FISSA toolbox\n",
    "import fissa\n",
    "\n",
    "# SIMA toolbox\n",
    "import sima\n",
    "import sima.segment\n",
    "\n",
    "# File operations\n",
    "import glob\n",
    "\n",
    "# Plotting toolbox, with notebook embedding options\n",
    "import holoviews as hv\n",
    "\n",
    "%load_ext holoviews.ipython\n",
    "%output widgets=\"embed\""
   ]
  },
  {
   "cell_type": "markdown",
   "metadata": {},
   "source": [
    "## Detecting cells with SIMA"
   ]
  },
  {
   "cell_type": "markdown",
   "metadata": {},
   "source": [
    "### Setup data"
   ]
  },
  {
   "cell_type": "code",
   "execution_count": null,
   "metadata": {},
   "outputs": [],
   "source": [
    "# Define folder where tiffs are present\n",
    "tiff_folder = \"exampleData/20150529/\"\n",
    "\n",
    "# Find tiffs in folder\n",
    "tiffs = sorted(glob.glob(tiff_folder + \"/*.tif*\"))\n",
    "\n",
    "# define motion correction method\n",
    "mc_approach = sima.motion.DiscreteFourier2D()\n",
    "\n",
    "# Define SIMA dataset\n",
    "sequences = [sima.Sequence.create(\"TIFF\", tiff) for tiff in tiffs[:1]]\n",
    "try:\n",
    "    dataset = sima.ImagingDataset(sequences, \"example.sima\")\n",
    "except:\n",
    "    dataset = sima.ImagingDataset.load(\"example.sima\")"
   ]
  },
  {
   "cell_type": "markdown",
   "metadata": {},
   "source": [
    "### Run SIMA segmentation algorithm"
   ]
  },
  {
   "cell_type": "code",
   "execution_count": null,
   "metadata": {},
   "outputs": [],
   "source": [
    "stica_approach = sima.segment.STICA(components=2)\n",
    "stica_approach.append(sima.segment.SparseROIsFromMasks())\n",
    "stica_approach.append(sima.segment.SmoothROIBoundaries())\n",
    "stica_approach.append(sima.segment.MergeOverlapping(threshold=0.5))\n",
    "rois = dataset.segment(stica_approach, \"auto_ROIs\")"
   ]
  },
  {
   "cell_type": "markdown",
   "metadata": {},
   "source": [
    "### Plot detected cells"
   ]
  },
  {
   "cell_type": "code",
   "execution_count": null,
   "metadata": {},
   "outputs": [],
   "source": [
    "fig = hv.Overlay()\n",
    "for roi in rois:\n",
    "    fig *= hv.Curve(roi.coords[0])\n",
    "\n",
    "fig"
   ]
  },
  {
   "cell_type": "markdown",
   "metadata": {},
   "source": [
    "## Extract decontaminated signals with FISSA\n",
    "\n",
    "FISSA needs either ImageJ ROIs or numpy arrays as inputs for the ROIs. \n",
    "\n",
    "SIMA outputs ROIs as numpy arrays, and can be directly read into FISSA.\n",
    "\n",
    "A given roi is given as\n",
    "```python\n",
    "rois[i].coords[0][:, :2]\n",
    "```\n",
    "\n",
    "FISSA expects rois to be provided as a list of lists\n",
    "```\n",
    "[[roiA1, roiA2, roiA3, ...]]\n",
    "```\n",
    "So some formatting will need to be done first."
   ]
  },
  {
   "cell_type": "code",
   "execution_count": null,
   "metadata": {},
   "outputs": [],
   "source": [
    "numROI = len(rois)\n",
    "rois_fissa = [roi.coords[0][:, :2] for roi in rois]"
   ]
  },
  {
   "cell_type": "code",
   "execution_count": null,
   "metadata": {},
   "outputs": [],
   "source": [
    "rois[0].coords[0][:, :2].shape"
   ]
  },
  {
   "cell_type": "markdown",
   "metadata": {},
   "source": [
    "We can then run FISSA on the data using the ROIs supplied by SIMA having converted them to a FISSA-compatible format, `rois_fissa`."
   ]
  },
  {
   "cell_type": "code",
   "execution_count": null,
   "metadata": {},
   "outputs": [],
   "source": [
    "output_folder = \"fissa_sima_example\"\n",
    "exp = fissa.Experiment(tiff_folder, [rois_fissa], output_folder)\n",
    "exp.separate()"
   ]
  },
  {
   "cell_type": "markdown",
   "metadata": {},
   "source": [
    "### Plotting the results"
   ]
  },
  {
   "cell_type": "code",
   "execution_count": null,
   "metadata": {},
   "outputs": [],
   "source": [
    "%%opts Curve {+axiswise}\n",
    "\n",
    "\n",
    "def plot_cell_regions(roi_polys, plot_neuropil=False):\n",
    "    \"\"\"\n",
    "    Plot a single cell region, using holoviews.\n",
    "    \"\"\"\n",
    "    out = hv.Overlay()\n",
    "\n",
    "    if plot_neuropil:\n",
    "        # Plot the neuropil as well as the ROI\n",
    "        n_region = len(roi_polys)\n",
    "    else:\n",
    "        # Just plot the ROI, not the neuropil\n",
    "        n_region = 1\n",
    "\n",
    "    for i_region in range(n_region):\n",
    "        x = roi_polys[i_region][0][:, 1]\n",
    "        y = roi_polys[i_region][0][:, 0]\n",
    "        out *= hv.Curve(zip(x, y))\n",
    "\n",
    "    return out\n",
    "\n",
    "\n",
    "i_trial = 0\n",
    "\n",
    "# Generate outlines around for all detected regions, indicating neuropil subregions\n",
    "region_plots = {\n",
    "    i_cell: plot_cell_regions(exp.roi_polys[i_cell, i_trial], plot_neuropil=True)\n",
    "    for i_cell in range(exp.nCell)\n",
    "}\n",
    "\n",
    "# Generate plots for raw extracts and neuropil removed\n",
    "traces_plots = {\n",
    "    i_cell: (\n",
    "        hv.Curve(exp.raw[i_cell][i_trial][0, :], label=\"SIMA\")\n",
    "        * hv.Curve(exp.result[i_cell][i_trial][0, :], label=\"FISSA\")\n",
    "    )\n",
    "    for i_cell in range(exp.nCell)\n",
    "}\n",
    "\n",
    "# Get average image\n",
    "avg_img = hv.Raster(exp.means[i_trial])\n",
    "\n",
    "# Render holoviews\n",
    "(\n",
    "    avg_img * hv.HoloMap(region_plots, kdims=[\"Cell\"]) * fig\n",
    "    + hv.HoloMap(traces_plots, kdims=[\"Cell\"])\n",
    ")"
   ]
  },
  {
   "cell_type": "markdown",
   "metadata": {},
   "source": [
    "(A) ROI contours, and the neuropil subregions defined by FISSA for the current cell.\n",
    "\n",
    "(B) Signal extracted by SIMA's detected ROI (blue), and after decontaminating with FISSA (red)"
   ]
  }
 ],
 "metadata": {
  "kernelspec": {
   "display_name": "Python 3",
   "language": "python",
   "name": "python3"
  },
  "language_info": {
   "codemirror_mode": {
    "name": "ipython",
    "version": 3
   },
   "file_extension": ".py",
   "mimetype": "text/x-python",
   "name": "python",
   "nbconvert_exporter": "python",
   "pygments_lexer": "ipython3",
   "version": "3.6.10"
  }
 },
 "nbformat": 4,
 "nbformat_minor": 1
}
