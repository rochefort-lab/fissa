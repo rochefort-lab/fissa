{
 "cells": [
  {
   "cell_type": "markdown",
   "metadata": {},
   "source": [
    "# Using FISSA with Suite2p\n",
    "\n",
    "[suite2p](https://github.com/MouseLand/suite2p) is a blind source separation toolbox for cell detection and signal extraction. \n",
    "\n",
    "Here we illustrate how to use suite2p to detect cell locations, and then use FISSA to remove neuropil signals from the ROI signals.\n",
    "\n",
    "The suite2p parts of this tutorial are based on their [Jupyter notebook example](https://github.com/MouseLand/suite2p/blob/master/jupyter/run_pipeline_tiffs_or_batch.ipynb).\n",
    "\n",
    "Note that the below results are not representative of either suite2p or FISSA performance, as we are using a very small example dataset.\n",
    "\n",
    "**Reference:**\n",
    "Pachitariu, M., Stringer, C., Dipoppa, M., Schröder, S., Rossi, L. F., Dalgleish, H., Carandini, M. & Harris, K. D. (2017). Suite2p: beyond 10,000 neurons with standard two-photon microscopy. bioRxiv:&nbsp;[061507](https://www.biorxiv.org/content/10.1101/061507v2); doi:&nbsp;[10.1101/061507](https://doi.org/10.1101/061507)."
   ]
  },
  {
   "cell_type": "markdown",
   "metadata": {},
   "source": [
    "## Imports"
   ]
  },
  {
   "cell_type": "code",
   "execution_count": null,
   "metadata": {},
   "outputs": [],
   "source": [
    "# FISSA toolbox\n",
    "import fissa\n",
    "\n",
    "# suite2p toolbox\n",
    "import suite2p.run_s2p\n",
    "\n",
    "# numpy toolbox\n",
    "import numpy as np\n",
    "\n",
    "# Plotting toolbox, with notebook embedding options\n",
    "import holoviews as hv\n",
    "\n",
    "%load_ext holoviews.ipython\n",
    "%output widgets='embed'"
   ]
  },
  {
   "cell_type": "markdown",
   "metadata": {},
   "source": [
    "## Run suite2p"
   ]
  },
  {
   "cell_type": "code",
   "execution_count": null,
   "metadata": {},
   "outputs": [],
   "source": [
    "# Set your options for running\n",
    "ops = suite2p.run_s2p.default_ops()  # populates ops with the default options\n",
    "\n",
    "# Provide an h5 path in 'h5py' or a tiff path in 'data_path'\n",
    "# db overwrites any ops (allows for experiment specific settings)\n",
    "db = {\n",
    "    \"h5py\": [],  # a single h5 file path\n",
    "    \"h5py_key\": \"data\",\n",
    "    \"look_one_level_down\": False,  # whether to look in ALL subfolders when searching for tiffs\n",
    "    \"data_path\": [\"exampleData/20150529\"],  # a list of folders with tiffs\n",
    "    # (or folder of folders with tiffs if look_one_level_down is True,\n",
    "    # or subfolders is not empty)\n",
    "    \"save_path0\": \"./\",  # save path\n",
    "    \"subfolders\": [],  # choose subfolders of 'data_path' to look in (optional)\n",
    "    \"fast_disk\": \"./\",  # string which specifies where the binary file will be stored (should be an SSD)\n",
    "    \"reg_tif\": True,  # save the motion corrected tiffs\n",
    "    \"tau\": 0.7,  # timescale of gcamp6f\n",
    "    \"fs\": 1,  # sampling rate\n",
    "    \"spatial_scale\": 4,\n",
    "}\n",
    "\n",
    "# Run one experiment\n",
    "opsEnd = suite2p.run_s2p.run_s2p(ops=ops, db=db)"
   ]
  },
  {
   "cell_type": "markdown",
   "metadata": {},
   "source": [
    "## Load the relevant data from the analysis"
   ]
  },
  {
   "cell_type": "code",
   "execution_count": null,
   "metadata": {},
   "outputs": [],
   "source": [
    "# Extract the motion corrected tiffs (make sure that the reg_tif option is set to true, see above)\n",
    "images = \"./suite2p/plane0/reg_tif\"\n",
    "\n",
    "# Load the detected regions of interest\n",
    "stat = np.load(\"./suite2p/plane0/stat.npy\", allow_pickle=True)  # cell stats\n",
    "ops = np.load(\"./suite2p/plane0/ops.npy\", allow_pickle=True).item()\n",
    "iscell = np.load(\"./suite2p/plane0/iscell.npy\", allow_pickle=True)[:, 0]\n",
    "\n",
    "# Get image size\n",
    "Lx = ops[\"Lx\"]\n",
    "Ly = ops[\"Ly\"]\n",
    "\n",
    "# Get the cell ids\n",
    "ncells = len(stat)\n",
    "cell_ids = np.arange(ncells)  # assign each cell an ID, starting from 0.\n",
    "cell_ids = cell_ids[iscell == 1]  # only take the ROIs that are actually cells.\n",
    "num_rois = len(cell_ids)\n",
    "\n",
    "# Generate ROI masks in a format usable by FISSA (in this case, a list of masks)\n",
    "rois = [np.zeros((Ly, Lx), dtype=bool) for n in range(num_rois)]\n",
    "\n",
    "for i, n in enumerate(cell_ids):\n",
    "    # i is the position in cell_ids, and n is the actual cell number\n",
    "    ypix = stat[n][\"ypix\"][~stat[n][\"overlap\"]]\n",
    "    xpix = stat[n][\"xpix\"][~stat[n][\"overlap\"]]\n",
    "    rois[i][ypix, xpix] = 1"
   ]
  },
  {
   "cell_type": "markdown",
   "metadata": {},
   "source": [
    "## Run FISSA with the defined ROIs and data"
   ]
  },
  {
   "cell_type": "code",
   "execution_count": null,
   "metadata": {},
   "outputs": [],
   "source": [
    "output_folder = \"fissa_suite2p_example\"\n",
    "exp = fissa.Experiment(images, [rois[:ncells]], output_folder)\n",
    "exp.separate()"
   ]
  },
  {
   "cell_type": "markdown",
   "metadata": {},
   "source": [
    "## Plot the resulting ROI signals"
   ]
  },
  {
   "cell_type": "code",
   "execution_count": null,
   "metadata": {},
   "outputs": [],
   "source": [
    "%%opts Curve {+axiswise}\n",
    "\n",
    "\n",
    "def plot_cell_regions(roi_polys, plot_neuropil=False):\n",
    "    \"\"\"\n",
    "    Plot a single cell region, using holoviews.\n",
    "    \"\"\"\n",
    "    out = hv.Overlay()\n",
    "\n",
    "    if plot_neuropil:\n",
    "        # Plot the neuropil as well as the ROI\n",
    "        n_region = len(roi_polys)\n",
    "    else:\n",
    "        # Just plot the ROI, not the neuropil\n",
    "        n_region = 1\n",
    "\n",
    "    for i_region in range(n_region):\n",
    "        for part in roi_polys[i_region]:\n",
    "            x = part[:, 1]\n",
    "            y = part[:, 0]\n",
    "            out *= hv.Curve(zip(x, y)).opts(color=\"w\")\n",
    "\n",
    "    return out\n",
    "\n",
    "\n",
    "i_trial = 0\n",
    "\n",
    "# Generate plots for all detected regions\n",
    "region_plots = {\n",
    "    i_cell: plot_cell_regions(exp.roi_polys[i_cell][i_trial])\n",
    "    for i_cell in range(exp.nCell)\n",
    "}\n",
    "\n",
    "# Generate plots for raw extracts and neuropil removed\n",
    "traces_plots = {\n",
    "    i_cell: hv.Curve(exp.raw[i_cell][i_trial][0, :], label=\"suite2p\")\n",
    "    * hv.Curve(exp.result[i_cell][i_trial][0, :], label=\"FISSA\")\n",
    "    for i_cell in range(exp.nCell)\n",
    "}\n",
    "\n",
    "# Generate average image\n",
    "avg_img = hv.Raster(exp.means[i_trial])\n",
    "\n",
    "# Generate overlay plot showing each cell location\n",
    "cell_locs = hv.Overlay()\n",
    "for c in range(exp.nCell):\n",
    "    roi_poly = exp.roi_polys[c][i_trial][0][0]\n",
    "    x = roi_poly[:, 1]\n",
    "    y = roi_poly[:, 0]\n",
    "    cell_locs *= hv.Curve(zip(x, y))\n",
    "\n",
    "# Render holoviews\n",
    "avg_img * cell_locs * hv.HoloMap(region_plots, kdims=[\"Cell\"]) + hv.HoloMap(\n",
    "    traces_plots, kdims=[\"Cell\"]\n",
    ")"
   ]
  },
  {
   "cell_type": "markdown",
   "metadata": {},
   "source": [
    "Note that with the above settings for suite2p it seems to have detected more small local axon signals, instead of cells. This can possibly be improved with manual curation and suite2p setting changes, but as noted above these results should not be seen as indicative for either suite2p or FISSA due to the small dataset size.\n",
    "\n",
    "Also note that the above Suite2P traces are done without suite2p's own neuropil removal algorithm."
   ]
  }
 ],
 "metadata": {
  "kernelspec": {
   "display_name": "Python 3",
   "language": "python",
   "name": "python3"
  },
  "language_info": {
   "codemirror_mode": {
    "name": "ipython",
    "version": 3
   },
   "file_extension": ".py",
   "mimetype": "text/x-python",
   "name": "python",
   "nbconvert_exporter": "python",
   "pygments_lexer": "ipython3",
   "version": "3.6.10"
  }
 },
 "nbformat": 4,
 "nbformat_minor": 2
}
