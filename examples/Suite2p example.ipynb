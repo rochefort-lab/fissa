{
 "cells": [
  {
   "cell_type": "markdown",
   "metadata": {},
   "source": [
    "### Using FISSA with Suite2p\n",
    "Suite2P is blind source separation toolbox for cell detection and signal extraction. \n",
    "\n",
    "Here we illustrate how one can both apply Suite2p, and extract the necessary components to follow up their analysis with our neuropil removal.\n",
    "\n",
    "For more information about the Suite2p toolbox see: \n",
    "\n",
    "https://github.com/MouseLand/suite2p\n",
    "\n",
    "Pachitariu, M., Stringer, C., Dipoppa, M., Schröder, S., Rossi, L. F., Dalgleish, H., ... & Harris, K. D. (2017). Suite2p: beyond 10,000 neurons with standard two-photon microscopy. Biorxiv.\n",
    "\n",
    "The Suite2P parts of this tutorial are based on their [Jupyter notebook example](https://github.com/MouseLand/suite2p/blob/master/jupyter/run_pipeline_tiffs_or_batch.ipynb).\n",
    "\n",
    "Note that the below results are not representative of either Suite2P or FISSA performance, as it is just example data."
   ]
  },
  {
   "cell_type": "markdown",
   "metadata": {},
   "source": [
    "### Imports"
   ]
  },
  {
   "cell_type": "code",
   "execution_count": null,
   "metadata": {},
   "outputs": [],
   "source": [
    "# Plotting toolbox\n",
    "import holoviews as hv\n",
    "import numpy as np\n",
    "%load_ext holoviews.ipython\n",
    "\n",
    "# FISSA\n",
    "import fissa\n",
    "\n",
    "# Suite2P\n",
    "from suite2p import run_s2p"
   ]
  },
  {
   "cell_type": "markdown",
   "metadata": {},
   "source": [
    "### Run Suite2p"
   ]
  },
  {
   "cell_type": "code",
   "execution_count": null,
   "metadata": {},
   "outputs": [],
   "source": [
    "# set your options for running\n",
    "ops = run_s2p.default_ops() # populates ops with the default options\n",
    "\n",
    "# provide an h5 path in 'h5py' or a tiff path in 'data_path'\n",
    "# db overwrites any ops (allows for experiment specific settings)\n",
    "db = {\n",
    "      'h5py': [], # a single h5 file path\n",
    "      'h5py_key': 'data',\n",
    "      'look_one_level_down': False, # whether to look in ALL subfolders when searching for tiffs\n",
    "      'data_path': ['exampleData/20150529'], # a list of folders with tiffs \n",
    "                                             # (or folder of folders with tiffs if look_one_level_down is True, or subfolders is not empty)\n",
    "      'save_path0': './',# save path                                      \n",
    "      'subfolders': [], # choose subfolders of 'data_path' to look in (optional)\n",
    "      'fast_disk': './', # string which specifies where the binary file will be stored (should be an SSD)\n",
    "      'reg_tif': True, # save the motion corrected tiffs\n",
    "      'tau': 0.7, # timescale of gcamp6f\n",
    "      'fs': 1, # sampling rate\n",
    "      'spatial_scale': 4\n",
    "    }\n",
    "\n",
    "# run one experiment\n",
    "opsEnd=run_s2p.run_s2p(ops=ops,db=db)"
   ]
  },
  {
   "cell_type": "markdown",
   "metadata": {},
   "source": [
    "### Load the relevant data from the analysis"
   ]
  },
  {
   "cell_type": "code",
   "execution_count": null,
   "metadata": {},
   "outputs": [],
   "source": [
    "# extract the motion corrected tiffs (make sure that the reg_tif option is set to true, see above)\n",
    "images = './suite2p/plane0/reg_tif'\n",
    "\n",
    "# load the detected regions of interest\n",
    "stat = np.load('./suite2p/plane0/stat.npy', allow_pickle=True) # cell stats\n",
    "ops = np.load('./suite2p/plane0/ops.npy', allow_pickle=True).item() # \n",
    "iscell = np.load('./suite2p/plane0/iscell.npy', allow_pickle=True)[:, 0] \n",
    "\n",
    "# get image size\n",
    "Lx = ops['Lx']\n",
    "Ly = ops['Ly']\n",
    "\n",
    "# get the actual cell ids\n",
    "ncells = len(stat)\n",
    "cell_ids = np.arange(0, ncells) # this gives each cell a number. Edna: the ID start from 0 and so on.\n",
    "cell_ids = cell_ids[iscell==1] # only take the ones that are actually cells.\n",
    "num_rois = len(cell_ids) \n",
    "\n",
    "# generate actual ROI masks in a format usable FISSA (in this case, a list of masks)\n",
    "ROIS = [np.zeros((Ly, Lx), dtype=bool) for n in range(num_rois)]\n",
    "for i, n in enumerate(cell_ids): # with enumerate i is the position in cell_ids, and n is the actual cell number\n",
    "    ypix = stat[n]['ypix'][~stat[n]['overlap']]\n",
    "    xpix = stat[n]['xpix'][~stat[n]['overlap']]\n",
    "    ROIS[i][ypix,xpix] = 1"
   ]
  },
  {
   "cell_type": "markdown",
   "metadata": {},
   "source": [
    "### Run FISSA with the defined ROIs and data"
   ]
  },
  {
   "cell_type": "code",
   "execution_count": null,
   "metadata": {},
   "outputs": [],
   "source": [
    "output_folder = 'fissa_suite2p_example'\n",
    "exp = fissa.Experiment(images, [ROIS[:ncells]], output_folder)\n",
    "exp.separate()"
   ]
  },
  {
   "cell_type": "code",
   "execution_count": null,
   "metadata": {
    "scrolled": false
   },
   "outputs": [],
   "source": [
    "%%opts Curve {+axiswise}\n",
    "colors = hv.core.options.Cycle.default_cycles['default_colors']\n",
    "Ncolors = len(colors)\n",
    "\n",
    "# function for a single cell region plot\n",
    "def plot_cell_regions(cell):\n",
    "    out = hv.Overlay()\n",
    "    numReg = len(exp.roi_polys[cell][0]) # Number of regions\n",
    "    for i in range(1): # set this to range(numReg) to also get the neuropil regions\n",
    "        numParts = len(exp.roi_polys[cell][0][i]) # number of parts in the current region\n",
    "        for j in range(numParts):\n",
    "            x = exp.roi_polys[cell][0][i][j][:, 1]\n",
    "            y = exp.roi_polys[cell][0][i][j][:, 0]\n",
    "            out *= hv.Curve(zip(x,y)).opts(color='w')\n",
    "    return out\n",
    "\n",
    "# get plots for all detected regions\n",
    "region_plots = {i : plot_cell_regions(i) for i in range(exp.nCell)}\n",
    "\n",
    "# get plots for raw extracts and neuropil removed\n",
    "traces_plots = {i : hv.Curve(exp.raw[i][1][0,:], label='Suite2p')*hv.Curve(exp.result[i][1][0,:], label='FISSA') for i in range(exp.nCell)}\n",
    "\n",
    "# get average image\n",
    "avg_img = hv.Raster(opsEnd[0]['meanImg'])\n",
    "\n",
    "avg_img*hv.HoloMap(region_plots,kdims=['Cell'])+hv.HoloMap(traces_plots,kdims=['Cell'])"
   ]
  },
  {
   "cell_type": "markdown",
   "metadata": {},
   "source": [
    "Note that with the above settings for Suite2P it seems to have detected more small local axon signals, instead of cells. This can possibly be improved with manual curation and Suite2P setting changes, but as noted above these results should be seen as indicative for either Suite2P or FISSA due to the small data-set. Also note that the above Suite2P traces are done without Suite2P's own neuropil removal algorithm."
   ]
  }
 ],
 "metadata": {
  "kernelspec": {
   "display_name": "Python 3",
   "language": "python",
   "name": "python3"
  },
  "language_info": {
   "codemirror_mode": {
    "name": "ipython",
    "version": 3
   },
   "file_extension": ".py",
   "mimetype": "text/x-python",
   "name": "python",
   "nbconvert_exporter": "python",
   "pygments_lexer": "ipython3",
   "version": "3.7.3"
  }
 },
 "nbformat": 4,
 "nbformat_minor": 2
}
