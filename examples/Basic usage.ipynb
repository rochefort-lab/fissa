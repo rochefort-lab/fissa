{
 "cells": [
  {
   "cell_type": "markdown",
   "metadata": {},
   "source": [
    "# Basic FISSA usage"
   ]
  },
  {
   "cell_type": "markdown",
   "metadata": {},
   "source": [
    "This notebook explains step-by-step how to use the FISSA toolbox. See basic_usage.py (or basic_usage_windows.py for Windows users) for a shorter example script if one does not use a notebook interface."
   ]
  },
  {
   "cell_type": "code",
   "execution_count": null,
   "metadata": {},
   "outputs": [],
   "source": [
    "# FISSA toolbox imports\n",
    "import fissa"
   ]
  },
  {
   "cell_type": "markdown",
   "metadata": {},
   "source": [
    "Plotting toolbox import. \n",
    "Plotting in this notebook is done with Holoviews, for details see http://holoviews.org/."
   ]
  },
  {
   "cell_type": "code",
   "execution_count": null,
   "metadata": {},
   "outputs": [],
   "source": [
    "# Plotting toolbox\n",
    "import holoviews as hv\n",
    "%load_ext holoviews.ipython\n",
    "%output widgets='embed'"
   ]
  },
  {
   "cell_type": "markdown",
   "metadata": {},
   "source": [
    "### Defining an experiment\n",
    "Define your inputs. All that's necessary to define are the image data and ROIs. \n",
    "\n",
    "Images can be defined as a folder with tiff stacks:\n",
    "```\n",
    "images = 'folder'\n",
    "```\n",
    "Where each tiff stack in the folder is a trial with several frames.\n",
    "\n",
    "Or the data can also be given as a list of arrays if not stored as tiffs:\n",
    "```\n",
    "images = [array1, array2, array3, ...]\n",
    "```\n",
    "\n",
    "For ROIs either a set of ROIs across all images should be defined, or a set of ROIs per image. \n",
    "\n",
    "If the ROIs were defined using ImageJ use ImageJ's export function to save them in a zip. Then, indicate the locations as a list:\n",
    "```\n",
    "rois = 'rois.zip' # for a single set of rois across images\n",
    "rois = ['rois1.zip', 'rois2.zip',...] # for a roiset for each image\n",
    "```\n",
    "Defining a different roiset per image can be useful if you need to adjust for motion drift for example.\n",
    "\n",
    "Then, we can define out experiment:"
   ]
  },
  {
   "cell_type": "code",
   "execution_count": null,
   "metadata": {},
   "outputs": [],
   "source": [
    "# roi and data locations\n",
    "rois_location = 'exampleData/20150429.zip'\n",
    "images_location = 'exampleData/20150529'\n",
    "\n",
    "# Folder where data will be stored. Make sure to use a different folder for each experiment.\n",
    "output_folder = 'fissa_example'\n",
    "\n",
    "experiment = fissa.Experiment(images_location, rois_location, output_folder)"
   ]
  },
  {
   "cell_type": "markdown",
   "metadata": {},
   "source": [
    "Previously analyzed experiments in output_folder will be loaded, if they exist, and the next step could be skipped."
   ]
  },
  {
   "cell_type": "markdown",
   "metadata": {},
   "source": [
    "### Extracting traces and separating them\n",
    "Next, we need to extract the traces and separate them:"
   ]
  },
  {
   "cell_type": "code",
   "execution_count": null,
   "metadata": {},
   "outputs": [],
   "source": [
    "experiment.separate()"
   ]
  },
  {
   "cell_type": "markdown",
   "metadata": {},
   "source": [
    "If you want to redo preparation and/or separation you can set:\n",
    "```\n",
    "experiment.separate(redo_prep=True, redo_sep=True)\n",
    "```\n",
    "(If you redo prepartion this will also redo the separation, to make sure these always match up)."
   ]
  },
  {
   "cell_type": "markdown",
   "metadata": {},
   "source": [
    "## Accessing results\n",
    "After running ```experiment.separate()``` the results are stored as follows.\n",
    "\n",
    "#### ROI outlines\n",
    "The ROI outlines, as well as the extra neuropil regions, can be found as in ```experiment.roi_polys``` as follows. For cell number ```c``` and tiff number `t`, the set of ROIs for that cell and tiff is at\n",
    "```\n",
    "experiment.roi_polys[c][t][0][0] # basic ROI\n",
    "experiment.roi_polys[c][t][n][0] # n = 1, 2, 3.... the neuropil regions\n",
    "```\n",
    "Sometimes ROIs cannot be expressed as a single polygon (e.g. a ring-ROI), in those cases several polygons are used to describe it as:\n",
    "```\n",
    "experiment.roi_polys[c][t][0][i] # i iterates over the different polygons\n",
    "```\n",
    "\n",
    "As an example, plotting the first region of interest plus its first neuropil sub:"
   ]
  },
  {
   "cell_type": "code",
   "execution_count": null,
   "metadata": {
    "collapsed": true
   },
   "outputs": [],
   "source": [
    "c = 0\n",
    "t = 0\n",
    "cell = hv.Curve(experiment.roi_polys[c][t][0][0])\n",
    "neuropil1 = hv.Curve(experiment.roi_polys[c][t][1][0])\n",
    "\n",
    "cell * neuropil1"
   ]
  },
  {
   "cell_type": "markdown",
   "metadata": {},
   "source": [
    "#### FISSA extracted traces\n",
    "The final extracted traces can be found in ```experiment.result``` as follows. For cell number ```c``` and tiff number `t`, the final extracted trace is given by:\n",
    "```\n",
    "experiment.result[c][t][0,:]\n",
    "```\n",
    "\n",
    "In ```experiment.result``` one can find the signals present in the cell ROI, ordered by how strongly they are present (relative to the surrounding regions). ```experiment.result[c][t][0,:]``` gives the most strongly present signal, and is seen as the cell's 'true' signal. ```[i,:]``` for ```i=1,2,3,...``` gives the other signals which are present in the cell ROI.\n",
    "\n",
    "#### Before decontamination\n",
    "The raw extracted signals can be found in ```experiment.raw``` in the same way. Now in  ```experiment.raw[c][t][i,:]```, ```i``` indicates the region number, with ```i=0``` being the cell, and ```i=1,2,3,...``` indicating the surrounding regions.\n",
    "\n",
    "As an example, plotting the raw and extracted signals for the second trial for the third cell:"
   ]
  },
  {
   "cell_type": "code",
   "execution_count": null,
   "metadata": {},
   "outputs": [],
   "source": [
    "c = 2\n",
    "t = 1\n",
    "hv.Curve(experiment.raw[c][t][0, :], label='raw') * hv.Curve(experiment.result[c,t][0, :], label='decontaminated')"
   ]
  },
  {
   "cell_type": "markdown",
   "metadata": {},
   "source": [
    "#### df/f0\n",
    "It is often useful to calculate the df/f0 of traces. This can be done as follows. By default it is done across all trials, but it can also be done per trial by setting across_trials to False."
   ]
  },
  {
   "cell_type": "code",
   "execution_count": null,
   "metadata": {},
   "outputs": [],
   "source": [
    "experiment.calc_deltaf(freq=10, across_trials=True)"
   ]
  },
  {
   "cell_type": "code",
   "execution_count": null,
   "metadata": {
    "collapsed": true
   },
   "outputs": [],
   "source": [
    "c = 2\n",
    "t = 1\n",
    "hv.Curve(experiment.deltaf_raw[c][t], label='raw', vdims=['df/f0']) * hv.Curve(experiment.deltaf_result[c,t][0, :], label='decontaminated')"
   ]
  },
  {
   "cell_type": "markdown",
   "metadata": {},
   "source": [
    "Note that this uses the F0 from the raw trace for both."
   ]
  },
  {
   "cell_type": "markdown",
   "metadata": {},
   "source": [
    "## Exporting to MATLAB\n",
    "The results can easily be exported to MATLAB as follows:"
   ]
  },
  {
   "cell_type": "code",
   "execution_count": null,
   "metadata": {},
   "outputs": [],
   "source": [
    "experiment.save_to_matlab()"
   ]
  },
  {
   "cell_type": "markdown",
   "metadata": {},
   "source": [
    "Loading ```output_folder/matlab.mat``` will give you three structs, ```ROIs```, ```raw```, and ```result```.\n",
    "(Using the output_folder defined above)\n",
    "\n",
    "These interface similarly as ```experiment.ROIs```, ```experiment.raw```, and ```experiment.result``` described above. However, Matlab counts from 1 (as opposed to Python counting from 0), such that the ROI, raw trace, and decontaminated trace are all found for cell 0 trial 0 as:\n",
    "```\n",
    "ROIs.cell0.trial0{1} % polygon for the ROI\n",
    "ROIs.cell0.trial0{2} % polygon for first neuropil subregion\n",
    "result.cell0.trial0(1,:) % final extracted cell signal\n",
    "result.cell0.trial0(2,:) % contaminating signal\n",
    "raw.cell0.trial0(1,:) % raw measured celll signal\n",
    "raw.cell0.trial0(2,:) % raw signal from first neuropil subregion\n",
    "```"
   ]
  },
  {
   "cell_type": "markdown",
   "metadata": {},
   "source": [
    "## Sidenotes"
   ]
  },
  {
   "cell_type": "markdown",
   "metadata": {},
   "source": [
    "#### Finding the tiff files\n",
    "If you'd want to access a specific tifffile for a specific trial you can get its location as"
   ]
  },
  {
   "cell_type": "code",
   "execution_count": null,
   "metadata": {},
   "outputs": [],
   "source": [
    "trial = 1\n",
    "experiment.images[trial]"
   ]
  },
  {
   "cell_type": "markdown",
   "metadata": {},
   "source": [
    "#### Mean image data"
   ]
  },
  {
   "cell_type": "markdown",
   "metadata": {},
   "source": [
    "If you want to get the mean data of a trial you can find this in experiment.means:"
   ]
  },
  {
   "cell_type": "code",
   "execution_count": null,
   "metadata": {},
   "outputs": [],
   "source": [
    "t=0\n",
    "hv.Image(experiment.means[t])"
   ]
  },
  {
   "cell_type": "markdown",
   "metadata": {},
   "source": [
    "#### FISSA settings\n",
    "FISSA has several user-definable settings, which can be set during the experiment definition."
   ]
  },
  {
   "cell_type": "code",
   "execution_count": null,
   "metadata": {},
   "outputs": [],
   "source": [
    "# By default FISSA uses all the available processing threads. \n",
    "# This can, especially for the data preparation step, quickly fill up your memory. \n",
    "# Generally one only has to change the number of cores for the preparation steps, \n",
    "# as here it will load as many tiff stacks into memory as there are available processes.\n",
    "# The number of cores for the data preparation and separation steps can be changed as:\n",
    "ncores_preparation = 4  # If None, uses all available cores \n",
    "ncores_separation = None  # if None, uses all available cores\n",
    "\n",
    "# FISSA uses 4 subregions for the neuropil region, which can be set to something else\n",
    "nRegions = 4\n",
    "\n",
    "# Normally the area of each subregion is set the same as the central ROI\n",
    "expansion = 1\n",
    "\n",
    "# The degree of signal sparsity can be controlled with the alpha parameter.\n",
    "alpha = 0.1\n",
    "\n",
    "experiment = fissa.Experiment(\n",
    "    images_location,\n",
    "    rois_location,\n",
    "    output_folder,\n",
    "    nRegions=nRegions,\n",
    "    expansion=expansion,alpha=alpha,\n",
    "    ncores_preparation=ncores_preparation,\n",
    "    ncores_separation=ncores_separation,\n",
    ")"
   ]
  },
  {
   "cell_type": "markdown",
   "metadata": {},
   "source": [
    "Alternatively, they can also be changed post experiment definition as follows."
   ]
  },
  {
   "cell_type": "code",
   "execution_count": null,
   "metadata": {},
   "outputs": [],
   "source": [
    "experiment.ncores_preparation = 4\n",
    "experiment.alpha = 0.1\n",
    "experiment.expansion = 1"
   ]
  },
  {
   "cell_type": "markdown",
   "metadata": {},
   "source": [
    "### Large tiff files\n",
    "By default, FISSA loads entire tiff files at once. This can sometimes be problematic if the tiff files are too large to comfortably load into memory. To avoid this a low memory mode exists which instead loads tiff files frame by frame."
   ]
  },
  {
   "cell_type": "code",
   "execution_count": null,
   "metadata": {},
   "outputs": [],
   "source": [
    "experiment = fissa.Experiment(images_location, rois_location, output_folder, lowmemory_mode=True)"
   ]
  },
  {
   "cell_type": "markdown",
   "metadata": {},
   "source": [
    "### Handling custom formats\n",
    "By default FISSA can use tiffs or Numpy arrays for imaging data, and Numpy arrays or ImageJ ROIs for ROIs. It is also possible to give FISSA a custom script to use for other custom and/or proprietary formats that might be used by labs. In this case, one has to define a python script like fissa.datahandler (which is used internally to handle all the data). As an example, see the datahandler_custom.py script in the examples folder (where this notebook is located)."
   ]
  },
  {
   "cell_type": "code",
   "execution_count": null,
   "metadata": {},
   "outputs": [],
   "source": [
    "import datahandler_custom\n",
    "\n",
    "experiment = fissa.Experiment(\n",
    "    images_location,\n",
    "    rois_location,\n",
    "    output_folder,\n",
    "    datahandler_custom=datahandler_custom,\n",
    ")"
   ]
  }
 ],
 "metadata": {
  "kernelspec": {
   "display_name": "Python 2",
   "language": "python",
   "name": "python2"
  },
  "language_info": {
   "codemirror_mode": {
    "name": "ipython",
    "version": 2
   },
   "file_extension": ".py",
   "mimetype": "text/x-python",
   "name": "python",
   "nbconvert_exporter": "python",
   "pygments_lexer": "ipython2",
   "version": "2.7.15"
  }
 },
 "nbformat": 4,
 "nbformat_minor": 1
}
