{
 "cells": [
  {
   "cell_type": "markdown",
   "metadata": {},
   "source": [
    "# Basic FISSA usage"
   ]
  },
  {
   "cell_type": "markdown",
   "metadata": {},
   "source": [
    "This notebook contains a step-by-step example of how to use the functional interface to the [FISSA](https://github.com/rochefort-lab/fissa) toolbox.\n",
    "\n",
    "For more details about the methodology behind FISSA, please see our paper:\n",
    "> S. W. Keemink, S. C. Lowe, J. M. P. Pakan, E. Dylda, M. C. W. van Rossum, and N. L. Rochefort. FISSA: A neuropil decontamination toolbox for calcium imaging signals, *Scientific Reports*, **8**(1):3493, 2018. doi: [10.1038/s41598-018-21640-2](https://www.doi.org/10.1038/s41598-018-21640-2).\n",
    "\n",
    "See [basic_usage_func.py](https://github.com/rochefort-lab/fissa/blob/master/examples/basic_usage_func.py) (or [basic_usage_func_windows.py](https://github.com/rochefort-lab/fissa/blob/master/examples/basic_usage_func_windows.py) for Windows users) for a short example script outside of a notebook interface."
   ]
  },
  {
   "cell_type": "code",
   "execution_count": null,
   "metadata": {},
   "outputs": [],
   "source": [
    "# Import the FISSA toolbox\n",
    "import fissa"
   ]
  },
  {
   "cell_type": "code",
   "execution_count": null,
   "metadata": {},
   "outputs": [],
   "source": [
    "# Import matplotlib for rendering our results\n",
    "import matplotlib.pyplot as plt"
   ]
  },
  {
   "cell_type": "markdown",
   "metadata": {},
   "source": [
    "## Running FISSA\n",
    "\n",
    "With the functional interface to FISSA, everything is handled in a single function call to ``fissa.run_fissa``, which returns the decontaminated signals.\n",
    "\n",
    "The mandatory inputs to `fissa.run_fissa` are:\n",
    "- the experiment images\n",
    "- the regions of interest (ROIs) to extract\n",
    "\n",
    "Images can be given as a path to a folder containing tiff stacks:\n",
    "```python\n",
    "images = \"folder\"\n",
    "```\n",
    "Each of these tiff stacks in the folder (e.g. `\"folder/trial_001.tif\"`) is a trial with many frames.\n",
    "\n",
    "Alternatively, the image data can be given as a list of paths to tiffs:\n",
    "```python\n",
    "images = [\"folder/trial_001.tif\", \"folder/trial_002.tif\", \"folder/trial_003.tif\"]\n",
    "```\n",
    "or as a list of arrays which you have already loaded into memory:\n",
    "```python\n",
    "images = [array1, array2, array3, ...]\n",
    "```\n",
    "\n",
    "For the ROIs input, you can either provide a single set of ROIs, or a set of ROIs for every image.\n",
    "\n",
    "If the ROIs were defined using ImageJ, use ImageJ's export function to save them in a zip.\n",
    "Then, provide the ROI filename,\n",
    "```python\n",
    "rois = \"rois.zip\"  # for a single set of rois across images\n",
    "rois = [\"rois1.zip\", \"rois2.zip\", ...]  # for a roiset for each image\n",
    "```\n",
    "or list of ROI filenames\n",
    "```python\n",
    "rois = [\"rois1.zip\", \"rois2.zip\", ...]  # for a roiset for each image\n",
    "```\n",
    "Defining a different roiset per image can be useful if you need to adjust for motion drift, for example.\n",
    "\n",
    "Then, we can run FISSA as follows."
   ]
  },
  {
   "cell_type": "code",
   "execution_count": null,
   "metadata": {},
   "outputs": [],
   "source": [
    "# Define image and ROI locations\n",
    "images_location = \"exampleData/20150529\"\n",
    "rois_location = \"exampleData/20150429.zip\"\n",
    "\n",
    "# Call FISSA using the functional interface\n",
    "result = fissa.run_fissa(images_location, rois_location)"
   ]
  },
  {
   "cell_type": "markdown",
   "metadata": {},
   "source": [
    "Note that although the functional interface is very straight forward, you can only access the result which is returned by the function.\n",
    "\n",
    "If you need to access the raw traces, ROI masks, or demixing matrix, you need to use the more flexible [object-oriented (class based) interface](https://rochefort-lab.github.io/fissa/examples/Basic%20usage.html), with [fissa.Experiment](https://fissa.readthedocs.io/en/stable/source/packages/fissa.core.html#fissa.core.Experiment), instead."
   ]
  },
  {
   "cell_type": "markdown",
   "metadata": {},
   "source": [
    "## Working with results\n",
    "\n",
    "The output of `fissa.run_fissa()` is structured as a 2-d array of 2-d arrays (it can't be a 4-d array because of differing trial lengths).\n",
    "\n",
    "The results from the cell (roi) numbered `c` and the trial (TIFF) numbered `t` are located at `result[c, t][0, :]`.\n",
    "\n",
    "The fourth (last) dimension works through frames within the TIFF file.\n",
    "\n",
    "The third dimension contains all the decontaminated signals from the ROI and its surrounding neuropil.\n",
    "The 0-th entry of this is the signal which most closely corresponds to the raw signal within the ROI.\n",
    "The other signals are the (isolated) contaminants."
   ]
  },
  {
   "cell_type": "code",
   "execution_count": null,
   "metadata": {},
   "outputs": [],
   "source": [
    "n_cell = result.shape[0]\n",
    "n_trial = result.shape[1]\n",
    "\n",
    "i_trial = 1\n",
    "\n",
    "plt.figure(figsize=(12, 8))\n",
    "\n",
    "for i_cell in range(n_cell):\n",
    "    plt.plot(result[i_cell, i_trial][0, :], label=\"Cell {}\".format(i_cell))\n",
    "\n",
    "plt.title(\"Trial {}\".format(i_trial), fontsize=15)\n",
    "plt.xlabel(\"Frame number\", fontsize=15)\n",
    "plt.ylabel(\"Signal\", fontsize=15)\n",
    "plt.grid()\n",
    "plt.legend()\n",
    "plt.show()"
   ]
  },
  {
   "cell_type": "code",
   "execution_count": null,
   "metadata": {},
   "outputs": [],
   "source": [
    "n_cell = result.shape[0]\n",
    "n_trial = result.shape[1]\n",
    "\n",
    "i_cell = 3\n",
    "\n",
    "plt.figure(figsize=(12, 8))\n",
    "\n",
    "for i_trial in range(n_trial):\n",
    "    plt.plot(result[i_cell, i_trial][0, :], label=\"Trial {}\".format(i_trial))\n",
    "\n",
    "plt.title(\"Cell {}\".format(i_cell), fontsize=15)\n",
    "plt.xlabel(\"Frame number\", fontsize=15)\n",
    "plt.ylabel(\"Signal\", fontsize=15)\n",
    "plt.grid()\n",
    "plt.legend()\n",
    "plt.show()"
   ]
  },
  {
   "cell_type": "markdown",
   "metadata": {},
   "source": [
    "### df/f<sub>0</sub>\n",
    "\n",
    "It is often useful to calculate the intensity of a signal relative to the baseline value, df/f<sub>0</sub>, for the traces.\n",
    "\n",
    "If you want to see the decontaminated signal relative to the baseline instead, you must also supply the sampling freqency of your TIFF files.\n",
    "This is because the data is smoothed when determining the baseline."
   ]
  },
  {
   "cell_type": "code",
   "execution_count": null,
   "metadata": {},
   "outputs": [],
   "source": [
    "sample_frequency = 10  # Hz\n",
    "\n",
    "deltaf = fissa.run_fissa(\n",
    "    images_location, rois_location, freq=sample_frequency, return_deltaf=True\n",
    ")"
   ]
  },
  {
   "cell_type": "markdown",
   "metadata": {},
   "source": [
    "Note that by default, f<sub>0</sub> is determined as the minimum across all trials (all tiffs) to ensure that results are directly comparable between trials, but you can normalise each trial individually instead if you prefer by setting `deltaf_across_trials=False`.\n",
    "\n",
    "Since FISSA is very good at removing contamination from the ROI signals, the minimum value on the decontaminated trace will typically be `0.`. Consequently, we use the minimum value of the (smoothed) raw signal to provide the f<sub>0</sub> from the raw trace for both the raw and decontaminated df/f<sub>0</sub>."
   ]
  },
  {
   "cell_type": "code",
   "execution_count": null,
   "metadata": {},
   "outputs": [],
   "source": [
    "import numpy as np\n",
    "\n",
    "n_cell = deltaf.shape[0]\n",
    "n_trial = deltaf.shape[1]\n",
    "\n",
    "i_cell = 3\n",
    "\n",
    "plt.figure(figsize=(12, 8))\n",
    "\n",
    "for i_trial in range(n_trial):\n",
    "    n_frames = deltaf[i_cell, i_trial].shape[-1]\n",
    "    plt.plot(\n",
    "        np.arange(0, n_frames) / sample_frequency,\n",
    "        deltaf[i_cell, i_trial][0, :],\n",
    "        label=\"Trial {}\".format(i_trial),\n",
    "    )\n",
    "\n",
    "plt.title(\"Cell {}\".format(i_cell), fontsize=15)\n",
    "plt.xlabel(\"Time (s)\", fontsize=15)\n",
    "plt.ylabel(\"df/f0\", fontsize=15)\n",
    "plt.grid()\n",
    "plt.legend()\n",
    "plt.show()"
   ]
  },
  {
   "cell_type": "markdown",
   "metadata": {},
   "source": [
    "## Caching\n",
    "\n",
    "You can optionally provide FISSA with the name of a cache directory.\n",
    "If this is given, FISSA will load any output that is present from there instead of recomputing it."
   ]
  },
  {
   "cell_type": "code",
   "execution_count": null,
   "metadata": {},
   "outputs": [],
   "source": [
    "# Define the folder where FISSA's outputs will be cached, so they can be\n",
    "# quickly reloaded in the future without having to recompute them.\n",
    "#\n",
    "# This argument is optional; if it is not provided, FISSA will not save its\n",
    "# results for later use.\n",
    "#\n",
    "# Note: you *must* use a different folder for each experiment,\n",
    "# otherwise FISSA will load the in the folder provided instead\n",
    "# of computing results for the new experiment.\n",
    "#\n",
    "# In this example, we will use the current datetime as the\n",
    "# name of the experiment, but you can name your experiments\n",
    "# however you want to.\n",
    "\n",
    "import datetime\n",
    "\n",
    "output_folder = \"fissa-example_{}\".format(\n",
    "    datetime.datetime.now().strftime(\"%Y-%m-%d_%H-%M-%S\")\n",
    ")\n",
    "\n",
    "print(output_folder)"
   ]
  },
  {
   "cell_type": "code",
   "execution_count": null,
   "metadata": {},
   "outputs": [],
   "source": [
    "# Run FISSA, saving to the output directory\n",
    "result = fissa.run_fissa(images_location, rois_location, output_folder)"
   ]
  },
  {
   "cell_type": "markdown",
   "metadata": {},
   "source": [
    "### Exporting to MATLAB\n",
    "\n",
    "The results can easily be exported to a MATLAB-compatible matfile as follows.\n",
    "\n",
    "We can either use `export_to_matlab=True`, which will include export to matlab with the default filename, `'matlab.mat'`, within the cache directory (the cache directory being set by our `output_folder` variable)."
   ]
  },
  {
   "cell_type": "code",
   "execution_count": null,
   "metadata": {},
   "outputs": [],
   "source": [
    "result = fissa.run_fissa(\n",
    "    images_location, rois_location, output_folder, export_to_matlab=True\n",
    ")"
   ]
  },
  {
   "cell_type": "markdown",
   "metadata": {},
   "source": [
    "Alternatively, we can manually specify the path to the output directory.\n",
    "\n",
    "In this case, setting a cache directory is optional."
   ]
  },
  {
   "cell_type": "code",
   "execution_count": null,
   "metadata": {},
   "outputs": [],
   "source": [
    "result = fissa.run_fissa(\n",
    "    images_location, rois_location, export_to_matlab=\"experiment_results.mat\"\n",
    ")"
   ]
  },
  {
   "cell_type": "markdown",
   "metadata": {},
   "source": [
    "Loading the generated file, `<output_folder>/matlab.mat` or your custom filename, in MATLAB will give you three structs, `ROIs`, `raw`, and `result`.\n",
    "\n",
    "These interface similarly as `experiment.ROIs`, `experiment.raw`, and `experiment.result` described above. However, Matlab counts from 1 (as opposed to Python counting from 0), such that the ROI, raw trace, and decontaminated trace are all found for cell 0 trial 0 as:\n",
    "\n",
    "```octave\n",
    "% data = load(\"fissa-example/matlab.mat\")  % load matfile saved to cache output dir\n",
    "data = load(\"experiment_results.mat\")  % load matfile save to custom output\n",
    "data.ROIs.cell0.trial0{1}  % polygon for the ROI\n",
    "data.ROIs.cell0.trial0{2}  % polygon for first neuropil subregion\n",
    "data.result.cell0.trial0(1, :)  % final extracted cell signal\n",
    "data.result.cell0.trial0(2, :)  % contaminating signal\n",
    "data.raw.cell0.trial0(1, :)  % raw measured celll signal\n",
    "data.raw.cell0.trial0(2, :)  % raw signal from first neuropil subregion\n",
    "```"
   ]
  },
  {
   "cell_type": "markdown",
   "metadata": {},
   "source": [
    "## Customising FISSA parameters\n",
    "\n",
    "FISSA has several user-definable settings, which can be set as optional arguments to `fissa.run_fissa`."
   ]
  },
  {
   "cell_type": "code",
   "execution_count": null,
   "metadata": {},
   "outputs": [],
   "source": [
    "# FISSA uses multiprocessing to speed up its processing.\n",
    "# By default, it will spawn one worker per CPU core on your machine.\n",
    "# However, if you have a lot of cores and not much memory, you many not\n",
    "# be able to suport so many workers simultaneously.\n",
    "# In particular, this can be problematic during the data preparation step\n",
    "# in which tiffs are loaded into memory.\n",
    "# The default number of cores for the data preparation and separation steps\n",
    "# can be changed as follows.\n",
    "ncores_preparation = 4  # If None, uses all available cores\n",
    "ncores_separation = None  # if None, uses all available cores\n",
    "\n",
    "# By default, FISSA uses 4 subregions for the neuropil region.\n",
    "# If you have very dense data with a lot of different signals per unit area,\n",
    "# you may wish to increase the number of regions.\n",
    "n_regions = 8\n",
    "\n",
    "# By default, each surrounding region has the same area as the central ROI.\n",
    "# i.e. expansion = 1\n",
    "# However, you may wish to increase or decrease this value.\n",
    "expansion = 0.75\n",
    "\n",
    "# The degree of signal sparsity can be controlled with the alpha parameter.\n",
    "alpha = 0.1\n",
    "\n",
    "# If you change the experiment parameters, you need to change the cache directory too.\n",
    "# Otherwise you will reload the results from the previous run instead of computing\n",
    "# the new results.\n",
    "output_folder2 = output_folder + \"_alt\"\n",
    "\n",
    "# Run FISSA with these parameters\n",
    "result = fissa.run_fissa(\n",
    "    images_location,\n",
    "    rois_location,\n",
    "    output_folder2,\n",
    "    nRegions=n_regions,\n",
    "    expansion=expansion,\n",
    "    alpha=alpha,\n",
    "    ncores_preparation=ncores_preparation,\n",
    "    ncores_separation=ncores_separation,\n",
    ")"
   ]
  },
  {
   "cell_type": "markdown",
   "metadata": {},
   "source": [
    "We can plot the new results for our example trace from before. Although we doubled the number of neuropil regions around the cell, very little has changed for this example because there were not many sources of contamination.\n",
    "\n",
    "However, there will be more of a difference if your data has more neuropil sources per unit area within the image."
   ]
  },
  {
   "cell_type": "code",
   "execution_count": null,
   "metadata": {},
   "outputs": [],
   "source": [
    "n_cell = result.shape[0]\n",
    "n_trial = result.shape[1]\n",
    "\n",
    "i_cell = 3\n",
    "\n",
    "plt.figure(figsize=(12, 8))\n",
    "\n",
    "for i_trial in range(n_trial):\n",
    "    plt.plot(result[i_cell, i_trial][0, :], label=\"Trial {}\".format(i_trial))\n",
    "\n",
    "plt.title(\"Cell {}\".format(i_cell), fontsize=15)\n",
    "plt.xlabel(\"Frame number\", fontsize=15)\n",
    "plt.ylabel(\"Signal\", fontsize=15)\n",
    "plt.grid()\n",
    "plt.legend()\n",
    "plt.show()"
   ]
  },
  {
   "cell_type": "markdown",
   "metadata": {},
   "source": [
    "### Loading data from large tiff files\n",
    "\n",
    "By default, FISSA loads entire tiff files into memory at once and then manipulates all ROIs within the tiff.\n",
    "This can sometimes be problematic when working with very large tiff files which can not be loaded into memory all at once.\n",
    "If you have out-of-memory problems, you can activate FISSA's low memory mode, which will cause it to manipulate each tiff file frame-by-frame."
   ]
  },
  {
   "cell_type": "code",
   "execution_count": null,
   "metadata": {},
   "outputs": [],
   "source": [
    "result = fissa.run_fissa(images_location, rois_location, lowmemory_mode=True)"
   ]
  }
 ],
 "metadata": {
  "kernelspec": {
   "display_name": "Python 3",
   "language": "python",
   "name": "python3"
  },
  "language_info": {
   "codemirror_mode": {
    "name": "ipython",
    "version": 3
   },
   "file_extension": ".py",
   "mimetype": "text/x-python",
   "name": "python",
   "nbconvert_exporter": "python",
   "pygments_lexer": "ipython3",
   "version": "3.8.2"
  }
 },
 "nbformat": 4,
 "nbformat_minor": 1
}
